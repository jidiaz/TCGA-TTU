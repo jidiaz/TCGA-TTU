{
 "cells": [
  {
   "cell_type": "markdown",
   "id": "4a77706c-fc17-4792-9561-95978055b04f",
   "metadata": {},
   "source": [
    "<h2><font color=\"#004D7F\" size=6>TCGA Data Analysis - Glioblastoma </font></h2>\n",
    "<h3><font color=\"#004D7F\" size=4>- Jorge Iván Díaz Riaño PhD(c)  </font></h3>"
   ]
  },
  {
   "cell_type": "markdown",
   "id": "07ddd598-1ea4-4963-9a3d-25b37a5bbfbb",
   "metadata": {},
   "source": [
    "Glioblastoma multiforme (GBM) is a devastating brain tumor with extremely poor prognosis because of its diffusive and infiltrative nature, which is marked cytological heterogeneity. It is one of the most aggressive and common malignant brain tumors accounting for more than 50% of all gliomas. \n",
    "Currently, the standard treatment for GBM includes surgical resection followed by radiation therapy, chemotherapy, or a combination of these therapies. Despite the use of these therapies, the median survival time in patients remains dismal, at approximately 1 year. GBM remains an incurable disease with few therapeutic advances over the past several decades.\n"
   ]
  },
  {
   "cell_type": "markdown",
   "id": "9788d9a2-d16e-482b-957e-a6f5410bfaf5",
   "metadata": {},
   "source": [
    "<h1><font color=\"#004D7F\" size=4>1. Loading and preprocessing data</font></h1>"
   ]
  },
  {
   "cell_type": "code",
   "execution_count": 1,
   "id": "56f9e020-51ea-4749-8a91-39c63f3134bd",
   "metadata": {},
   "outputs": [
    {
     "data": {
      "text/html": [
       "<style>.container { width:100% !important; }</style>"
      ],
      "text/plain": [
       "<IPython.core.display.HTML object>"
      ]
     },
     "metadata": {},
     "output_type": "display_data"
    }
   ],
   "source": [
    "from IPython.display import display, HTML\n",
    "display(HTML(\"<style>.container { width:100% !important; }</style>\"))"
   ]
  },
  {
   "cell_type": "code",
   "execution_count": 4,
   "id": "4ed346cf-75ab-4aeb-b732-0fd6f367c634",
   "metadata": {
    "scrolled": true
   },
   "outputs": [],
   "source": [
    "#Loading required packages and libraries\n",
    "from IPython.display import display, HTML\n",
    "import os\n",
    "import pandas as pd\n",
    "import numpy as np\n",
    "import matplotlib.pyplot as plt\n",
    "import statsmodels.api as sm\n",
    "import seaborn as sns\n",
    "from sklearn.decomposition import PCA\n",
    "from sklearn.preprocessing import StandardScaler\n",
    "from sklearn.pipeline import make_pipeline\n",
    "from sklearn.decomposition import TruncatedSVD\n",
    "from sklearn.cluster import KMeans\n",
    "from sklearn.metrics import silhouette_score\n",
    "from sklearn.model_selection import train_test_split\n",
    "from sklearn.neighbors import KNeighborsClassifier\n",
    "from sklearn.metrics import accuracy_score\n",
    "from sklearn.impute import SimpleImputer\n",
    "from sklearn.metrics import silhouette_score\n",
    "from lifelines import KaplanMeierFitter\n",
    "from sklearn.cluster import AgglomerativeClustering\n",
    "from matplotlib.colors import LinearSegmentedColormap\n",
    "import warnings\n",
    "import io\n",
    "import fileupload"
   ]
  },
  {
   "cell_type": "code",
   "execution_count": null,
   "id": "b31d06af",
   "metadata": {},
   "outputs": [],
   "source": []
  },
  {
   "cell_type": "code",
   "execution_count": null,
   "id": "ea51cd3a",
   "metadata": {},
   "outputs": [],
   "source": [
    "working_directory = os.getcwd()\n",
    "working_directory"
   ]
  },
  {
   "cell_type": "code",
   "execution_count": null,
   "id": "d3276bc6-b17d-4155-a705-f232516dead8",
   "metadata": {},
   "outputs": [],
   "source": [
    "dataset=\"C:\\\\Users\\\\TTUSVM\\\\Documents\\\\GitHub\\\\TCGA-TTU\\\\TC3R\\\\Input\\TCGA-GBMmage_tpm_plus_clinical.csv\"\n",
    "data= pd.read_csv(dataset, sep=',')\n",
    "df = pd.DataFrame(data)\n",
    "# adding genes\n",
    "rawtpm= \"C:\\\\Users\\\\TTUSVM\\\\Documents\\\\GitHub\\\\TCGA-TTU\\\\TC3R\\\\Input\\TCGA-GBM_all_tpm.csv\"\n",
    "rawtpmddata= pd.read_csv(rawtpm, sep=',')\n",
    "rawtpmdf= pd.DataFrame(rawtpmddata)\n",
    "rawtpmdf_transposed= rawtpmdf.set_index('gene_id').T\n",
    "rawtpmdf_transposed.head(4)\n",
    "# Merge transposed DataFrame with df on 'sample'\n",
    "merged_df = pd.merge(df, rawtpmdf_transposed, left_on='sample', right_index=True)\n",
    "\n",
    "# Extract values for genes ENSG00000067445 and ENSG00000182636\n",
    "gene1_values = merged_df['ENSG00000067445']\n",
    "gene2_values = merged_df['ENSG00000182636']\n",
    "gene3_values = merged_df['ENSG00000185115']\n",
    "\n",
    "# Add new columns to df2\n",
    "df['ENSG00000067445'] = gene1_values\n",
    "df['ENSG00000182636'] = gene2_values\n",
    "df['ENSG00000185115'] = gene3_values"
   ]
  },
  {
   "cell_type": "code",
   "execution_count": null,
   "id": "d534c0d3",
   "metadata": {},
   "outputs": [],
   "source": [
    "# replace empty/invalid values with NaN\n",
    "df.replace(\"\\'--\", np.nan, inplace=True)\n",
    "df.replace('not reported', np.nan, inplace=True)\n",
    "df.replace('Not Reported', np.nan, inplace=True)\n",
    "df.head(4)"
   ]
  },
  {
   "cell_type": "code",
   "execution_count": null,
   "id": "eff6484e-3a5d-4104-ae7f-b87da44945a1",
   "metadata": {},
   "outputs": [],
   "source": [
    "#Cross GO code with Gene names\n",
    "dataset2='C:\\\\Users\\\\TTUSVM\\\\Documents\\\\GitHub\\\\TCGA-TTU\\\\TC3R\\\\Input\\TCGA-06-0132-01A'\n",
    "df2 = pd.read_csv(dataset2, sep='\\t',header=1, index_col=0)\n",
    "df2.index = df2.index.str.split(\".\").str[0]\n",
    "df2\n",
    "\n",
    "# Create a dictionary to cross gene names and GO code\n",
    "column_mapping = {}\n",
    "for column_name in df.columns:\n",
    "    for column_value in df2.index:\n",
    "        if column_value in column_name:\n",
    "            column_mapping[column_name] = df2.loc[column_value, 'gene_name']\n",
    "            break\n",
    "\n",
    "# Rename columns on dataset1\n",
    "df.rename(columns=column_mapping, inplace=True)\n",
    "df.head(2)"
   ]
  },
  {
   "cell_type": "code",
   "execution_count": null,
   "id": "40aefc07-a164-4fa1-9c19-2b50edd7fc82",
   "metadata": {},
   "outputs": [],
   "source": [
    "# Count of null data points\n",
    "print(df.isnull().sum())"
   ]
  },
  {
   "cell_type": "code",
   "execution_count": null,
   "id": "bd000a59-c031-46cf-a35c-bb4917219923",
   "metadata": {},
   "outputs": [],
   "source": [
    "# drop columns with >0.8 NaN's\n",
    "df = df.loc[:, df.isnull().mean() < .8]\n",
    "df.info()"
   ]
  },
  {
   "cell_type": "code",
   "execution_count": null,
   "id": "aa85ab55-2828-4734-b654-7cc00bbb6d54",
   "metadata": {},
   "outputs": [],
   "source": [
    "df.describe()"
   ]
  },
  {
   "cell_type": "code",
   "execution_count": null,
   "id": "b24dd7e2-e32b-45ec-b9d9-639740c70d51",
   "metadata": {},
   "outputs": [],
   "source": [
    "df.set_index('sample', inplace=True)"
   ]
  },
  {
   "cell_type": "code",
   "execution_count": null,
   "id": "881afd43-f54c-41a5-855f-aed8b19ab47f",
   "metadata": {},
   "outputs": [],
   "source": [
    "df"
   ]
  },
  {
   "cell_type": "markdown",
   "id": "5551fdfc-17d2-4da3-9fcd-0804e8a8d3ab",
   "metadata": {},
   "source": [
    "<h1><font color=\"#004D7F\" size=5>2. Visualization</font></h1>"
   ]
  },
  {
   "cell_type": "markdown",
   "id": "4ff30a61-0080-4556-b22f-77b73839810c",
   "metadata": {},
   "source": [
    "<h1><font color=\"#004D7F\" size=4>2.1 Correlation.</font></h1>"
   ]
  },
  {
   "cell_type": "code",
   "execution_count": null,
   "id": "37ba8ea7-44c5-4238-b493-d61bbc2325ee",
   "metadata": {},
   "outputs": [],
   "source": [
    "df_numeric = df.select_dtypes(include=['number'])\n",
    "# Reorder columns based on the provided order\n",
    "column_order = [\n",
    "    \"MAGEA1\", \"MAGEA2\", \"MAGEA2B\", \"MAGEA3\", \"MAGEA4\", \"MAGEA5\", \"MAGEA6\", \"MAGEA7P\", \"MAGEA8\", \"MAGEA9\",\n",
    "    \"MAGEA9B\", \"MAGEA10\", \"MAGEA11\", \"MAGEA12\", \"MAGEB1\", \"MAGEB2\", \"MAGEB3\", \"MAGEB4\", \"MAGEB5\", \"MAGEB6\",\n",
    "    \"MAGEB10\", \"MAGEB16\", \"MAGEB17\", \"MAGEB18\", \"MAGEC1\", \"MAGEC2\", \"MAGEC3\", \"MAGED1\", \"MAGED2\", \"TRO\",\"MAGED4\",\n",
    "    \"MAGED4B\", \"MAGEE1\", \"MAGEE2\", \"MAGEF1\", \"NSMCE3\",\"MAGEH1\", \"MAGEL2\", \"CSAG1\", \"CSAG2\", \"CSAG3\", \"CSAG4\", \"TRIM28\", \"NDN\"\n",
    "]\n",
    "df_numeric = df_numeric[column_order]"
   ]
  },
  {
   "cell_type": "code",
   "execution_count": null,
   "id": "44aaafae",
   "metadata": {},
   "outputs": [],
   "source": [
    "df_numeric['MAGEC2'].describe()"
   ]
  },
  {
   "cell_type": "code",
   "execution_count": null,
   "id": "7906f4ca-256e-471e-bdcf-83f35f03a36f",
   "metadata": {
    "scrolled": false
   },
   "outputs": [],
   "source": [
    "#Perform correlation (Pearson)\n",
    "correlation = df_numeric.corr()\n",
    "plt.figure(figsize = (50,50))\n",
    "ax = sns.heatmap(correlation, vmax = 1, vmin = -1, square=True , annot=True, cmap = 'cividis') #Correlations from -1 to 1m change to vmin\n",
    "correlation.to_csv('MAGEsPearsonCorrelation.csv')\n",
    "plt.title('Correlation')\n",
    "plt.show()"
   ]
  },
  {
   "cell_type": "code",
   "execution_count": null,
   "id": "eb9aea0e-dc32-4d75-85a3-97a75375e58f",
   "metadata": {},
   "outputs": [],
   "source": [
    "def get_redundant_pairs(df):\n",
    "    '''Get diagonal and lower triangular pairs of correlation matrix'''\n",
    "    pairs_to_drop = set()\n",
    "    cols = df.columns\n",
    "    for i in range(0, df.shape[1]):\n",
    "        for j in range(0, i+1):\n",
    "            pairs_to_drop.add((cols[i], cols[j]))\n",
    "    return pairs_to_drop\n",
    "\n",
    "def get_top_abs_correlations(df, n=5):\n",
    "    '''Get top absolute correlations'''\n",
    "    au_corr = df.corr().abs().unstack()\n",
    "    labels_to_drop = get_redundant_pairs(df)\n",
    "    au_corr = au_corr.drop(labels=labels_to_drop).sort_values(ascending=False)\n",
    "    return au_corr[0:n]\n",
    "\n",
    "def get_bottom_abs_correlations(df, n=5):\n",
    "    '''Get bottom absolute correlations'''\n",
    "    au_corr = df.corr().unstack()\n",
    "    labels_to_drop = get_redundant_pairs(df)\n",
    "    au_corr = au_corr.drop(labels=labels_to_drop).sort_values(ascending=True)\n",
    "    return au_corr[0:n]\n",
    "\n",
    "def get_all_abs_correlations(df):\n",
    "    '''Get all absolute correlations'''\n",
    "    au_corr = df.corr().abs().unstack()\n",
    "    labels_to_drop = get_redundant_pairs(df)\n",
    "    au_corr = au_corr.drop(labels=labels_to_drop).sort_values(ascending=False)\n",
    "    return au_corr"
   ]
  },
  {
   "cell_type": "code",
   "execution_count": null,
   "id": "c3feecb2-beaa-46eb-a28d-d05587449b60",
   "metadata": {},
   "outputs": [],
   "source": [
    "print('Top of correlations')\n",
    "print(get_top_abs_correlations(df_numeric, 10).to_string())\n",
    "print('\\nBottom of correlations')\n",
    "print(get_bottom_abs_correlations(df_numeric, 10).to_string())"
   ]
  },
  {
   "cell_type": "markdown",
   "id": "040c5ba2",
   "metadata": {},
   "source": [
    "<h1><font color=\"#004D7F\" size=4>2.2 Cutoffs generation</font></h1>"
   ]
  },
  {
   "cell_type": "code",
   "execution_count": null,
   "id": "99d136e8",
   "metadata": {},
   "outputs": [],
   "source": [
    "## Using MAX DIFFERENCE for TYPE1 ##\n",
    "def find_optimal_cutoff_type1(df, genes, zero_threshold=0.5):\n",
    "    # Select only the columns corresponding to the genes\n",
    "    df_subset = df[genes]\n",
    "    # Calculate the proportion of zeros in each row\n",
    "    zero_counts = (df_subset == 0).sum(axis=1)\n",
    "    # Drop rows where proportion of zeros exceeds the threshold\n",
    "    df_subset = df_subset[zero_counts / len(genes) <= zero_threshold]\n",
    "    min_input = np.min(df_subset)\n",
    "    max_input = np.max(df_subset)\n",
    "    print(\"Min input:\", min_input)\n",
    "    print(\"Max input:\", max_input)   \n",
    "# Normalize to log10(value + 1)\n",
    "    df_subset = np.log10(df_subset + 1)\n",
    "    # Find optimal cutoff\n",
    "    max_diff = -np.inf\n",
    "    optimal_cutoff = None\n",
    "    optimal_diff = None\n",
    "    optimal_labels = None\n",
    "    optimal_centroids = None\n",
    "    cutoffs = []\n",
    "    diffs = []\n",
    "    \n",
    "    min_input = np.min(df_subset)\n",
    "    max_input = np.max(df_subset)\n",
    "     \n",
    "    print(\"Finding optimal cutoff...\")\n",
    "    for i, cutoff in enumerate(np.linspace(min_input, max_input, num=100)):\n",
    "        print(f\"Progress: {i+1}/{100}\", end='\\r')\n",
    "        # Randomly initialize centroids within the range of the data\n",
    "        centroids = np.random.rand(2, df_subset.shape[1]) * (max_input - min_input) + min_input\n",
    "        # Cluster the data into two groups based on centroids\n",
    "        with warnings.catch_warnings():\n",
    "            warnings.simplefilter(\"ignore\")\n",
    "            kmeans = KMeans(n_clusters=2, init=centroids, n_init=100)  # Try multiple initializations\n",
    "            kmeans.fit(df_subset)\n",
    "        \n",
    "        # Calculate the mean of each cluster\n",
    "        cluster_means = np.array([np.mean(df_subset[kmeans.labels_ == i]) for i in range(2)])\n",
    "        \n",
    "        # Calculate the difference between the means\n",
    "        diff = np.abs(cluster_means[0] - cluster_means[1])\n",
    "        \n",
    "        # Update optimal cutoff and optimal difference if difference is maximized\n",
    "        if diff > max_diff:\n",
    "            max_diff = diff\n",
    "            optimal_cutoff = cutoff\n",
    "            optimal_diff = cluster_means\n",
    "            optimal_labels = kmeans.labels_\n",
    "            optimal_centroids = kmeans.cluster_centers_\n",
    "        \n",
    "        # Store cutoffs and corresponding differences for plotting\n",
    "        cutoffs.append(cutoff)\n",
    "        diffs.append(diff)\n",
    "    \n",
    "    # Plot the cutoffs and corresponding differences\n",
    "    plt.figure(figsize=(14, 6))\n",
    "\n",
    "    plt.subplot(1, 2, 1)\n",
    "    plt.plot(cutoffs, diffs)\n",
    "    plt.xlabel('Cutoff')\n",
    "    plt.ylabel('Difference')\n",
    "    plt.title('Cutoff vs Difference')\n",
    "\n",
    "    plt.subplot(1, 2, 2)\n",
    "    df_subset.boxplot(rot=90)\n",
    "    plt.title('Distribution of TPMs across Selected Genes')\n",
    "    plt.ylabel('Log10(TPM+1)')\n",
    "    plt.axhline(y=optimal_cutoff, color='r', linestyle='--')\n",
    "    plt.text(0.5, optimal_cutoff + 0.1, f'Optimal Cutoff: {optimal_cutoff:.2f}', color='r')\n",
    "\n",
    "    plt.tight_layout()\n",
    "    plt.show()\n",
    "\n",
    "    return optimal_cutoff, optimal_diff, optimal_labels, optimal_centroids"
   ]
  },
  {
   "cell_type": "code",
   "execution_count": null,
   "id": "3289418b",
   "metadata": {},
   "outputs": [],
   "source": [
    "Type1= [ \"MAGEA1\", \"MAGEA2\", \"MAGEA2B\", \"MAGEA3\", \"MAGEA4\", \"MAGEA5\", \"MAGEA6\", \"MAGEA7P\", \"MAGEA8\", \"MAGEA9\", \"MAGEA9B\", \"MAGEA10\", \"MAGEA11\", \"MAGEA12\", \"MAGEB1\", \"MAGEB2\", \"MAGEB3\", \"MAGEB4\", \"MAGEB5\", \"MAGEB6\", \"MAGEB10\", \"MAGEB16\", \"MAGEB17\", \"MAGEB18\", \"MAGEC1\", \"MAGEC2\", \"MAGEC3\"]\n",
    "                 \n",
    "cutoff_value, optimal_diff, optimal_labels, optimal_centroids = find_optimal_cutoff_type1(df_numeric, Type1)\n",
    "print(\"Optimal cutoff value:\", cutoff_value ,\"TPMs, \", \"Normalized: \", np.log10(cutoff_value +1))"
   ]
  },
  {
   "cell_type": "code",
   "execution_count": null,
   "id": "ea51d7bd",
   "metadata": {},
   "outputs": [],
   "source": [
    "## Using MAX DIFFERENCE for TYPE2 ##\n",
    "def find_optimal_cutoff_Type2(df, genes):\n",
    "    # Select only the columns corresponding to the genes\n",
    "    df_subset = df[genes]\n",
    "    # Drop rows where all values are zero\n",
    "    df_subset = df_subset[(df_subset > 0).all(axis=1)]\n",
    "    # Find optimal cutoff\n",
    "    max_diff = -np.inf\n",
    "    optimal_cutoff = None\n",
    "    optimal_diff = None\n",
    "    optimal_labels = None\n",
    "    optimal_centroids = None\n",
    "    cutoffs = []\n",
    "    diffs = []\n",
    "    \n",
    "    min_input = np.min(df_subset)\n",
    "    max_input = np.max(df_subset)\n",
    "    print(\"Min input:\", min_input)\n",
    "    print(\"Max input:\", max_input)\n",
    "    \n",
    "    print(\"Finding optimal cutoff...\")\n",
    "    for i, cutoff in enumerate(np.linspace(min_input, max_input, num=100)):\n",
    "        print(f\"Progress: {i+1}/{100}\", end='\\r')\n",
    "        # Randomly initialize centroids within the range of the data\n",
    "        centroids = np.random.rand(2, df_subset.shape[1]) * (max_input - min_input) + min_input\n",
    "        # Cluster the data into two groups based on centroids\n",
    "        with warnings.catch_warnings():\n",
    "            warnings.simplefilter(\"ignore\")\n",
    "            kmeans = KMeans(n_clusters=2, init=centroids, n_init=100)  # Try multiple initializations\n",
    "            kmeans.fit(df_subset)\n",
    "        \n",
    "        # Calculate the mean of each cluster\n",
    "        cluster_means = np.array([np.mean(df_subset[kmeans.labels_ == i]) for i in range(2)])\n",
    "        \n",
    "        # Calculate the difference between the means\n",
    "        diff = np.abs(cluster_means[0] - cluster_means[1])\n",
    "        \n",
    "        # Update optimal cutoff and optimal difference if difference is maximized\n",
    "        if diff > max_diff:\n",
    "            max_diff = diff\n",
    "            optimal_cutoff = cutoff\n",
    "            optimal_diff = cluster_means\n",
    "            optimal_labels = kmeans.labels_\n",
    "            optimal_centroids = kmeans.cluster_centers_\n",
    "        \n",
    "        # Store cutoffs and corresponding differences for plotting\n",
    "        cutoffs.append(cutoff)\n",
    "        diffs.append(diff)\n",
    "    \n",
    "    # Plot the cutoffs and corresponding differences\n",
    "    plt.figure(figsize=(14, 6))\n",
    "\n",
    "    plt.subplot(1, 2, 1)\n",
    "    plt.plot(cutoffs, diffs)\n",
    "    plt.xlabel('Cutoff')\n",
    "    plt.ylabel('Difference')\n",
    "    plt.title('Cutoff vs Difference')\n",
    "\n",
    "    # Filter dataframe to include only the specified genes\n",
    "    df_numeric_subset = df[genes]\n",
    "    df_numeric_log10 = np.log10(df_numeric_subset + 1)\n",
    "\n",
    "    plt.subplot(1, 2, 2)\n",
    "    df_numeric_log10.boxplot(rot=90)\n",
    "    plt.title('Distribution of TPMs across Selected Genes')\n",
    "    plt.ylabel('Log10(TPM+1)')\n",
    "    plt.axhline(y=np.log10(optimal_cutoff + 1), color='r', linestyle='--')\n",
    "    plt.text(0.5, np.log10(optimal_cutoff + 1) + 0.1, f'Optimal Cutoff: {np.log10(optimal_cutoff + 1):.2f}', color='r')\n",
    "\n",
    "    plt.tight_layout()\n",
    "    plt.show()\n",
    "\n",
    "    return optimal_cutoff, optimal_diff, optimal_labels, optimal_centroids\n"
   ]
  },
  {
   "cell_type": "code",
   "execution_count": null,
   "id": "213e5a15",
   "metadata": {
    "scrolled": false
   },
   "outputs": [],
   "source": [
    "Type2= [\"MAGED1\"] #type2\n",
    "cutoff_value, optimal_diff, optimal_labels, optimal_centroids = find_optimal_cutoff_Type2(df_numeric, Type2)\n",
    "print(\"Optimal cutoff value:\", cutoff_value ,\"TPMs, \", \"Normalized: \", np.log10(cutoff_value +1))"
   ]
  },
  {
   "cell_type": "markdown",
   "id": "ad42b7aa-d35e-4504-aeda-2a6e53c27553",
   "metadata": {},
   "source": [
    "<h1><font color=\"#004D7F\" size=4>2.3 Distribution of TPMs.</font></h1>"
   ]
  },
  {
   "cell_type": "code",
   "execution_count": null,
   "id": "84bd9889",
   "metadata": {
    "scrolled": false
   },
   "outputs": [],
   "source": [
    "# Set colors\n",
    "colors_pastel = sns.color_palette(\"Set2\")\n",
    "\n",
    "def plot_gene_histograms_type1(gene_list):\n",
    "    plt.figure(figsize=(15, 10))\n",
    "    for gene in gene_list:\n",
    "        plt.subplot(5, 6, gene_list.index(gene) + 1)\n",
    "        plt.hist(np.log10(df_numeric[gene] + 1), bins=20, color=colors_pastel[2], edgecolor='black')  # Using color from palette\n",
    "        plt.title(gene)\n",
    "        plt.xlabel('Log10(TPM+1)')\n",
    "        plt.ylabel('Frequency')\n",
    "        plt.grid(True)\n",
    "    plt.tight_layout()\n",
    "    plt.show()\n",
    "    \n",
    "def plot_gene_histograms_type2(gene_list):\n",
    "    plt.figure(figsize=(15, 10))\n",
    "    for gene in gene_list:\n",
    "        plt.subplot(5, 6, gene_list.index(gene) + 1)\n",
    "        plt.hist(np.log10(df_numeric[gene] + 1), bins=20, color=colors_pastel[5], edgecolor='black')  # Using color from palette\n",
    "        plt.title(gene)\n",
    "        plt.xlabel('Log10(TPM+1)')\n",
    "        plt.ylabel('Frequency')\n",
    "        plt.grid(True)\n",
    "    plt.tight_layout()\n",
    "    plt.show()"
   ]
  },
  {
   "cell_type": "code",
   "execution_count": null,
   "id": "52380834",
   "metadata": {},
   "outputs": [],
   "source": [
    "plot_gene_histograms_type1(Type1)\n",
    "plot_gene_histograms_type2(Type2)"
   ]
  },
  {
   "cell_type": "code",
   "execution_count": null,
   "id": "f909ef79-0a6d-47f6-a47f-1f9608ba2b92",
   "metadata": {
    "scrolled": false
   },
   "outputs": [],
   "source": [
    "# Define the function to create custom colormap\n",
    "def create_custom_colormap():\n",
    "    # Define the colors\n",
    "    colors = [(1, 1, 1), (1, 0.9, 0), (1, 0.5, 0), (1, 0, 0)]  # white to orange to red\n",
    "    # Define the breakpoints for the color transition\n",
    "    breakpoints = np.linspace(0, 1, len(colors))\n",
    "    # Create a segmented colormap\n",
    "    cmap_name = 'custom_red'\n",
    "    cmap = LinearSegmentedColormap.from_list(cmap_name, list(zip(breakpoints, colors)))\n",
    "    # Set masked values to be transparent\n",
    "    cmap.set_bad(color='gray', alpha=0)\n",
    "    return cmap\n",
    "\n",
    "# Load your data and define Type1 and Type2\n",
    "# Assuming df_numeric, Type1, and Type2 are defined\n",
    "\n",
    "# Create custom colormap\n",
    "custom_cmap = create_custom_colormap()\n",
    "\n",
    "# Use the custom colormap in the heatmap for type 1\n",
    "type1_df = df_numeric[Type1]\n",
    "sns.set(font_scale=0.8)\n",
    "g = sns.clustermap(type1_df, cmap=custom_cmap, center=0, cbar_kws={'label': 'TPMs'}, row_cluster=True, col_cluster=False, xticklabels=True, yticklabels=True, mask=(type1_df==0))\n",
    "g.ax_heatmap.set_yticklabels(g.ax_heatmap.get_ymajorticklabels(), fontsize=3)\n",
    "g.ax_heatmap.set_title('Type 1')\n",
    "g.ax_heatmap.tick_params(axis='y', which='major', labelsize=4)\n",
    "\n",
    "# Use the custom colormap in the heatmap for type 2\n",
    "type2_df = df_numeric[Type2]\n",
    "sns.set(font_scale=0.8)\n",
    "f = sns.clustermap(type2_df, cmap=custom_cmap, center=0, cbar_kws={'label': 'TPMs'}, row_cluster=True, col_cluster=False, xticklabels=True, yticklabels=True, mask=(type2_df==0))\n",
    "f.ax_heatmap.set_yticklabels(f.ax_heatmap.get_ymajorticklabels(), fontsize=3)\n",
    "f.ax_heatmap.set_title('Type 2')\n",
    "f.ax_heatmap.tick_params(axis='y', which='major', labelsize=4)\n",
    "\n",
    "plt.show()"
   ]
  },
  {
   "cell_type": "markdown",
   "id": "e618061e-f977-4d92-878e-3d1d79f1f485",
   "metadata": {},
   "source": [
    "<h1><font color=\"#004D7F\" size=4>2.4 Composition of Positive and Negative Tumors by MAGEs.</font></h1>"
   ]
  },
  {
   "cell_type": "code",
   "execution_count": null,
   "id": "cc346925-aa16-421c-897f-ed120e14167e",
   "metadata": {
    "scrolled": false
   },
   "outputs": [],
   "source": [
    "no_zero = df_numeric.astype(bool).sum(axis=0)\n",
    "zero = df_numeric.shape[0] - no_zero\n",
    "# New df to order output\n",
    "output_df = pd.DataFrame({'Positive_counts': no_zero, 'Negative_counts': zero})\n",
    "output_df['Total_counts'] = output_df['Positive_counts'] + output_df['Negative_counts']\n",
    "# Calculate percentages\n",
    "percentage_df = output_df[['Positive_counts', 'Negative_counts']].div(output_df['Total_counts'], axis=0) * 100\n",
    "# Concatenate percentages with original DataFrame\n",
    "output_df = pd.concat([output_df, percentage_df.add_suffix('_percentage')], axis=1)\n",
    "# Sort DataFrame by column names (alphabetical order)\n",
    "output_df = output_df.sort_index()\n",
    "finalTable= output_df[['Positive_counts','Positive_counts_percentage','Negative_counts','Negative_counts_percentage']]\n",
    "finalTable=finalTable.round(1)\n",
    "finalTable=finalTable.loc[column_order]\n",
    "finalTable.to_csv('MAGEsComposition.csv')\n",
    "finalTable.head(3)"
   ]
  },
  {
   "cell_type": "code",
   "execution_count": null,
   "id": "8fe82a98-0071-4c83-8f77-69b908cfea5e",
   "metadata": {},
   "outputs": [],
   "source": [
    "# Normalization\n",
    "total_counts = no_zero + zero\n",
    "positive_normalized = no_zero / total_counts\n",
    "positive_normalized= positive_normalized[column_order]\n",
    "negative_normalized = zero / total_counts\n",
    "negative_normalized= negative_normalized[column_order]\n",
    "# Set colors\n",
    "colors_pastel = sns.color_palette(\"Set2\")\n",
    "# Stacked barplot\n",
    "plt.figure(figsize=(10, 6))\n",
    "positive_normalized.plot(kind='bar', color=colors_pastel[2], width=0.4, position=1, label='Positive')\n",
    "negative_normalized.plot(kind='bar', color=colors_pastel[5], width=0.4, position=1, bottom=positive_normalized, label='Negative')\n",
    "plt.title('Composition of Positive and Negative Tumors for MAGE')\n",
    "plt.ylabel('Ratio of positive and negative samples')\n",
    "plt.legend()\n",
    "plt.legend(bbox_to_anchor=(1.05, 1), loc='upper left')\n",
    "plt.xticks(rotation=90)\n",
    "plt.text(1.09, 0.8, 'n=169', horizontalalignment='center', verticalalignment='center', transform=plt.gca().transAxes)\n",
    "plt.tight_layout()\n",
    "plt.show()"
   ]
  },
  {
   "cell_type": "markdown",
   "id": "992bc435-4c84-4e71-885c-47cca2d86a03",
   "metadata": {},
   "source": [
    "<h1><font color=\"#004D7F\" size=4>2.5. Overview clinical data.</font></h1>"
   ]
  },
  {
   "cell_type": "markdown",
   "id": "a5950c9a-2421-45db-9ef6-93d4143f622f",
   "metadata": {},
   "source": [
    "<h3>Definitions:</h3>\n",
    "\n",
    "**ethnicity:** An individual's self-described social and cultural grouping, specifically whether an individual describes themselves as Hispanic or Latino. The provided values are based on the categories defined by the U.S. Office of Management and Business and used by the U.S. Census Bureau.<br>\n",
    "**gender:** Text designations that identify gender. Gender is described as the assemblage of properties that distinguish people on the basis of their societal roles. [Explanatory Comment 1: Identification of gender is based upon self-report and may come from a form, questionnaire, interview, etc.]<br>\n",
    "**race:** An arbitrary classification of a taxonomic group that is a division of a species. It usually arises as a consequence of geographical isolation within a species and is characterized by shared heredity, physical attributes and behavior, and in the case of humans, by common history, nationality, or geographic distribution. The provided values are based on the categories defined by the U.S. Office of Management and Business and used by the U.S. Census Bureau.<br>\n",
    "**vital_status:** The survival state of the person registered on the protocol.<br>\n",
    "**treatment_or_therapy:** A yes/no/unknown/not applicable indicator related to the administration of therapeutic agents received.<br>\n",
    "**treatment_type:** Text term that describes the kind of treatment administered.<br>\n",
    "\n",
    "[TCGA- Data Dictionary](https://docs.gdc.cancer.gov/Data_Dictionary/viewer/#?view=table-entity-list&anchor=clinical)"
   ]
  },
  {
   "cell_type": "code",
   "execution_count": null,
   "id": "044f318e-3403-45f2-ab5a-7c82a02bda94",
   "metadata": {
    "scrolled": true
   },
   "outputs": [],
   "source": [
    "df_filled = df.copy()\n",
    "# Define columns for bar plots\n",
    "columns_bar = ['ethnicity', 'gender', 'race', 'vital_status', 'treatment_or_therapy', 'treatment_type']\n",
    "# Calculate the number of rows and columns needed for subplots\n",
    "num_cols_bar = 3  # Number of columns in the subplot grid for bar plots\n",
    "num_rows_bar = (len(columns_bar) + num_cols_bar - 1) // num_cols_bar  # Calculate the number of rows needed\n",
    "# Create a figure and set its size\n",
    "plt.figure(figsize=(15, 20))\n",
    "# Set a title for the entire figure\n",
    "plt.suptitle('Overview for Relevant Clinical Data', fontsize=16)\n",
    "# Loop through each column and create a subplot\n",
    "colors_pastel = sns.color_palette(\"Set2\")\n",
    "for i, column in enumerate(columns_bar, 1):\n",
    "    plt.subplot(num_rows_bar, num_cols_bar, i)\n",
    "    # Plot bar plot for the current column\n",
    "    counts = df_filled[column].value_counts()\n",
    "    counts.plot(kind='bar', color=colors_pastel[2])\n",
    "    # Annotate each bar with the count value if possible\n",
    "    for j, count in enumerate(counts):\n",
    "        plt.text(j, count + 0.5, str(count), ha='center', va='bottom')\n",
    "    # Remove x-axis label\n",
    "    plt.xlabel('')\n",
    "    # Set y-axis label\n",
    "    plt.ylabel('Count')\n",
    "    # Set title for the subplot\n",
    "    plt.title(column)\n",
    "# Adjust the layout to prevent overlapping of subplots\n",
    "plt.tight_layout(rect=[0, 0.03, 1, 0.95])\n",
    "# Show the plot\n",
    "plt.show()"
   ]
  },
  {
   "cell_type": "markdown",
   "id": "5a32cabd-f3da-4312-888a-0717e8c09bff",
   "metadata": {},
   "source": [
    "<h3>Definitions:</h3>\n",
    "\n",
    "**age_at_index:** The patient's age (in years) on the reference or anchor date used during date obfuscation.<br>\n",
    "**days_to_birth:** Number of days between the date used for index and the date from a person's date of birth represented as a calculated negative number of days.<br>\n",
    "**days_to_death:** Number of days between the date used for index and the date from a person's date of death represented as a calculated number of days.<br>\n",
    "**days_to_last_follow_up:** Time interval from the date of last follow up to the date of initial pathologic diagnosis, represented as a calculated number of days.<br>\n",
    "**year_of_birth:** Numeric value to represent the calendar year in which an individual was born.<br>\n",
    "**year_of_death:** Numeric value to represent the year of the death of an individual.<br>\n",
    "**age_at_diagnosis:** Age at the time of diagnosis expressed in number of days since birth.<br>\n",
    "**year_of_diagnosis:** Numeric value to represent the year of an individual's initial pathologic diagnosis of cancer.<br>\n",
    "\n",
    "[TCGA- Data Dictionary](https://docs.gdc.cancer.gov/Data_Dictionary/viewer/#?view=table-entity-list&anchor=clinical)"
   ]
  },
  {
   "cell_type": "code",
   "execution_count": null,
   "id": "7447efd6-eb04-4fae-9f21-a6e5e9357463",
   "metadata": {
    "scrolled": true
   },
   "outputs": [],
   "source": [
    "# Define columns for boxplots (removed 'age_at_index')\n",
    "columns_box = ['days_to_birth', 'days_to_death', 'days_to_last_follow_up', 'year_of_birth', 'year_of_death',\n",
    "               'age_at_diagnosis', 'year_of_diagnosis']\n",
    "# Remove NaN values from specified columns\n",
    "df_filled = df_filled.dropna(subset=columns_box)\n",
    "# Calculate the number of rows and columns needed for subplots\n",
    "num_cols_box = 4  # Number of columns in the subplot grid for bar plots\n",
    "num_rows_box = (len(columns_box) + num_cols_box - 1) // num_cols_box  # Calculate the number of rows needed\n",
    "# Create a figure and set its size\n",
    "plt.figure(figsize=(15, 20))\n",
    "# Set a title for the entire figure\n",
    "plt.suptitle('Overview for Relevant Clinical Data', fontsize=16)\n",
    "# Loop through each column and create a subplot\n",
    "for i, column in enumerate(columns_box, 1):\n",
    "    plt.subplot(num_rows_box, num_cols_box, i)\n",
    "    # Plot box plot for the current column without 0 values\n",
    "    df_column = pd.to_numeric(df_filled[column], errors='coerce')\n",
    "    df_column = df_column[df_column != 0]\n",
    "    df_column.plot(kind='box')\n",
    "    # Set subplot title\n",
    "    plt.title(column)\n",
    "# Adjust the layout to prevent overlapping of subplots\n",
    "plt.tight_layout(rect=[0, 0.03, 1, 0.95])\n",
    "# Show the plot\n",
    "plt.show()"
   ]
  },
  {
   "cell_type": "code",
   "execution_count": null,
   "id": "eee558d9-c694-4c97-8e19-8115fca5e5cb",
   "metadata": {
    "scrolled": true
   },
   "outputs": [],
   "source": [
    "# Define columns for histograms (Removed 'age_at_index')\n",
    "columns_hist = ['days_to_birth', 'days_to_death', 'days_to_last_follow_up', 'year_of_birth', 'year_of_death',\n",
    "               'age_at_diagnosis', 'year_of_diagnosis']\n",
    "# Remove NaN values from specified columns\n",
    "df_filled = df_filled.dropna(subset=columns_hist)\n",
    "# Calculate the number of rows and columns needed for subplots\n",
    "num_cols_hist = 4  # Number of columns in the subplot grid for histograms\n",
    "num_rows_hist = (len(columns_hist) + num_cols_hist - 1) // num_cols_hist  # Calculate the number of rows needed\n",
    "# Create a figure and set its size\n",
    "plt.figure(figsize=(15, 20))\n",
    "# Set a title for the entire figure\n",
    "plt.suptitle('Overview for Relevant Clinical Data', fontsize=16)\n",
    "# Loop through each column and create a subplot\n",
    "for i, column in enumerate(columns_hist, 1):\n",
    "    plt.subplot(num_rows_hist, num_cols_hist, i)\n",
    "    # Plot histogram for the current column without 0 values\n",
    "    df_column = pd.to_numeric(df_filled[column], errors='coerce')\n",
    "    df_column = df_column[df_column != 0]\n",
    "    df_column.hist()\n",
    "    # Set subplot title\n",
    "    plt.title(column)\n",
    "# Adjust the layout to prevent overlapping of subplots\n",
    "plt.tight_layout(rect=[0, 0.03, 1, 0.95])\n",
    "# Show the plot\n",
    "plt.show()"
   ]
  },
  {
   "cell_type": "code",
   "execution_count": null,
   "id": "dee01607-428d-4216-9dcf-5650274e48f1",
   "metadata": {},
   "outputs": [],
   "source": [
    "# Assuming you have a DataFrame named 'df' containing gene expression data and a column named 'gender'\n",
    "genes = [\n",
    "    \"MAGEA1\", \"MAGEA2\", \"MAGEA2B\", \"MAGEA3\", \"MAGEA4\", \"MAGEA5\", \"MAGEA6\", \"MAGEA7P\", \"MAGEA8\", \"MAGEA9\",\n",
    "    \"MAGEA9B\", \"MAGEA10\", \"MAGEA11\", \"MAGEA12\", \"MAGEB1\", \"MAGEB2\", \"MAGEB3\", \"MAGEB4\", \"MAGEB5\", \"MAGEB6\",\n",
    "    \"MAGEB10\", \"MAGEB16\", \"MAGEB17\", \"MAGEB18\", \"MAGEC1\", \"MAGEC2\", \"MAGEC3\", \"MAGED1\", \"MAGED2\", \"TRO\",\"MAGED4\",\n",
    "    \"MAGED4B\", \"MAGEE1\", \"MAGEE2\", \"MAGEF1\", \"NSMCE3\",\"MAGEH1\", \"MAGEL2\", \"CSAG1\", \"CSAG2\", \"CSAG3\", \"CSAG4\", \"TRIM28\", \"NDN\"\n",
    "]\n",
    "\n",
    "# Extract unique categories from the 'gender' column\n",
    "genders = df['gender'].unique()\n",
    "\n",
    "# Initialize a dictionary to store counts\n",
    "counts_dict = {'Gene': [], 'Gender': [], 'Positive': [], 'Negative': []}\n",
    "\n",
    "# Iterate over each MAGE gene and sex\n",
    "for gene in genes:\n",
    "    for gender in genders:\n",
    "        # Filter dataframe for the current MAGE gene and sex\n",
    "        filtered_df = df[(df[gene] > 0) & (df['gender'] == gender)]   \n",
    "        \n",
    "        # Count positive and negative cases\n",
    "        positive_count = filtered_df.shape[0]\n",
    "        negative_count = df[(df[gene] == 0) & (df['gender'] == gender)].shape[0]\n",
    "        \n",
    "        # Append counts to the dictionary\n",
    "        counts_dict['Gene'].append(gene)\n",
    "        counts_dict['Gender'].append(gender)\n",
    "        counts_dict['Positive'].append(positive_count)\n",
    "        counts_dict['Negative'].append(negative_count)\n",
    "\n",
    "# Create a new dataframe from the counts dictionary\n",
    "counts_df = pd.DataFrame(counts_dict)\n",
    "\n",
    "# Display the resulting dataframe\n",
    "counts_df['Total'] = counts_df['Positive']+counts_df['Negative']\n",
    "counts_df['PositiveRatio'] = counts_df['Positive'] / counts_df['Total']\n",
    "counts_df['NegativeRatio'] = counts_df['Negative'] / counts_df['Total']\n",
    "counts_df= counts_df.dropna(subset=['Gender'])\n",
    "counts_df = subset['Gene','Gender','PositiveRatio', 'NegativeRatio']\n",
    "print(counts_df)"
   ]
  },
  {
   "cell_type": "code",
   "execution_count": null,
   "id": "83b62a53",
   "metadata": {},
   "outputs": [],
   "source": [
    "# Plot\n",
    "plt.figure(figsize=(10, 6))\n",
    "sns.barplot(data=counts_df, x='Gene', y='Positive', hue='Gender', palette='pastel',errorbar=None)\n",
    "plt.title('Positive Counts by Gene and Gender')\n",
    "plt.ylabel('Count')\n",
    "plt.xlabel('Gene')\n",
    "plt.legend(title='Gender')\n",
    "plt.show()\n",
    "\n",
    "plt.figure(figsize=(10, 6))\n",
    "sns.barplot(data=counts_df, x='Gene', y='Negative', hue='Gender', palette='pastel',errorbar=None)\n",
    "plt.title('Negative Counts by Gene and Gender')\n",
    "plt.ylabel('Count')\n",
    "plt.xlabel('Gene')\n",
    "plt.legend(title='Gender')\n",
    "plt.show()"
   ]
  },
  {
   "cell_type": "code",
   "execution_count": null,
   "id": "3d4ada78-434d-486b-95be-dec516b62043",
   "metadata": {},
   "outputs": [],
   "source": [
    "sns.set(style=\"whitegrid\")\n",
    "\n",
    "# Create subplots\n",
    "fig, axes = plt.subplots(nrows=1, ncols=2, figsize=(18, 8))\n",
    "\n",
    "# Plot the first grouped bar plot\n",
    "sns.barplot(ax=axes[0], x='Gene', y='Positive', hue='Gender', data=counts_df, palette='Set2', errorbar=None)\n",
    "axes[0].set_title('Positive Cases by Gene and Gender')\n",
    "axes[0].set_xlabel('')\n",
    "axes[0].set_ylabel('Count')\n",
    "axes[0].tick_params(axis='x', rotation=90)\n",
    "axes[0].legend(title='Gender')\n",
    "\n",
    "# Plot the second grouped bar plot\n",
    "sns.barplot(ax=axes[1], x='Gene', y='Negative', hue='Gender', data=counts_df, palette='Set1', errorbar=None)\n",
    "axes[1].set_title('Negative Cases by Gene and Gender')\n",
    "axes[1].set_xlabel('')\n",
    "axes[1].set_ylabel('Count')\n",
    "axes[1].tick_params(axis='x', rotation=90)\n",
    "axes[1].legend(title='Gender')\n",
    "\n",
    "plt.tight_layout()\n",
    "plt.show()"
   ]
  },
  {
   "cell_type": "markdown",
   "id": "eef411b9-c098-4dac-a199-c1c9e3ddb4e0",
   "metadata": {},
   "source": [
    "<h1><font color=\"#004D7F\" size=4>2.6 Genes expression vs time after diagnosis.  </font></h1>"
   ]
  },
  {
   "cell_type": "code",
   "execution_count": null,
   "id": "292defe2-ea05-4860-aeea-bea2665062d7",
   "metadata": {},
   "outputs": [],
   "source": [
    "# Convert 'days_to_death' and 'days_to_last_follow_up' to numeric\n",
    "df['days_to_death'] = pd.to_numeric(df['days_to_death'], errors='coerce')\n",
    "df['days_to_last_follow_up'] = pd.to_numeric(df['days_to_last_follow_up'], errors='coerce')\n",
    "\n",
    "# Create new column 'years_after_diagnosis'\n",
    "df['years_after_diagnosis'] = df.apply(lambda row: row['days_to_death'] / 365 if row['vital_status'] == 'Dead' else row['days_to_last_follow_up'] / 365, axis=1)\n",
    "\n",
    "# Displaying the first few rows of the dataframe to verify the changes\n",
    "df.head(2)"
   ]
  },
  {
   "cell_type": "code",
   "execution_count": null,
   "id": "947b1213-027c-4dac-846c-52eab6079ca1",
   "metadata": {
    "scrolled": false
   },
   "outputs": [],
   "source": [
    "# Reset index to avoid duplicate labels error\n",
    "df_reset = df.reset_index()\n",
    "# Normalize values by taking log10(values+1)\n",
    "for gene in genes:\n",
    "    df_reset[gene] = np.log10(df_reset[gene] + 1)\n",
    "\n",
    "# Plotting\n",
    "num_cols = 4\n",
    "num_rows = (len(genes) + num_cols - 1) // num_cols  # Calculate the number of rows needed\n",
    "\n",
    "plt.figure(figsize=(15, 4 * num_rows))  # Adjust figure size based on the number of rows\n",
    "sns.set_style(\"whitegrid\")\n",
    "\n",
    "for i, gene in enumerate(genes, start=1):\n",
    "    plt.subplot(num_rows, num_cols, i)\n",
    "    sns.scatterplot(y='years_after_diagnosis', x=gene, hue='vital_status', data=df_reset, alpha=0.7)  # Transposed x and y\n",
    "    plt.title(f'{gene} Survival scatter plot')\n",
    "    plt.xlabel('Log10(TPM+1)')  # Adjusted label\n",
    "    plt.ylabel('Years after Diagnosis')  # Adjusted label\n",
    "    plt.legend(title='Vital Status')\n",
    "    plt.xticks(rotation=45)\n",
    "\n",
    "plt.tight_layout()\n",
    "plt.show()"
   ]
  },
  {
   "cell_type": "markdown",
   "id": "14e9affa-ebd7-4052-8545-d67fb7187740",
   "metadata": {},
   "source": [
    "<h1><font color=\"#004D7F\" size=5>3. Complex Data exploration</font></h1>"
   ]
  },
  {
   "cell_type": "markdown",
   "id": "34079fe6-ef4f-4455-8362-cc37b2aa5b36",
   "metadata": {},
   "source": [
    "<h1><font color=\"#004D7F\" size=4>3.1. PCA Tumors against categorical (clinical) variables.</font></h1>"
   ]
  },
  {
   "cell_type": "code",
   "execution_count": null,
   "id": "78200c98-c9fd-4250-8322-a16794613516",
   "metadata": {
    "scrolled": false
   },
   "outputs": [],
   "source": [
    "# Load dataset\n",
    "column_order = [\"MAGEA1\", \"MAGEA2\", \"MAGEA2B\", \"MAGEA3\", \"MAGEA4\", \"MAGEA5\", \"MAGEA6\", \"MAGEA7P\", \"MAGEA8\", \"MAGEA9\",\n",
    "    \"MAGEA9B\", \"MAGEA10\", \"MAGEA11\", \"MAGEA12\", \"MAGEB1\", \"MAGEB2\", \"MAGEB3\", \"MAGEB4\", \"MAGEB5\", \"MAGEB6\",\n",
    "    \"MAGEB10\", \"MAGEB16\", \"MAGEB17\", \"MAGEB18\", \"MAGEC1\", \"MAGEC2\", \"MAGEC3\", \"MAGED1\", \"MAGED2\", \"TRO\",\"MAGED4\",\n",
    "    \"MAGED4B\", \"MAGEE1\", \"MAGEE2\", \"MAGEF1\", \"MAGEH1\", \"MAGEL2\", \"CSAG1\", \"CSAG2\", \"CSAG3\", \"CSAG4\", \"TRIM28\", \"NDN\", \"gender\", \"vital_status\", \"ethnicity\", \"treatment_type\"]\n",
    "# Subsample the DataFrame\n",
    "df_gender = df[column_order].copy()\n",
    "# type 1 genes\n",
    "subtype1_genes = [\n",
    "    \"MAGEA1\", \"MAGEA2\", \"MAGEA2B\", \"MAGEA3\", \"MAGEA4\", \"MAGEA5\", \"MAGEA6\", \"MAGEA7P\", \"MAGEA8\", \"MAGEA9\",\n",
    "    \"MAGEA9B\", \"MAGEA10\", \"MAGEA11\", \"MAGEA12\", \"MAGEB1\", \"MAGEB2\", \"MAGEB3\", \"MAGEB4\", \"MAGEB5\", \"MAGEB6\",\n",
    "    \"MAGEB10\", \"MAGEB16\", \"MAGEB17\", \"MAGEB18\", \"MAGEC1\", \"MAGEC2\", \"MAGEC3\"\n",
    "]\n",
    "# type 2 genes\n",
    "subtype2_genes = [\n",
    "    \"MAGED1\", \"MAGED2\", \"TRO\",\"MAGED4\",\n",
    "    \"MAGED4B\", \"MAGEE1\", \"MAGEE2\", \"MAGEF1\", \"MAGEH1\", \"MAGEL2\", \"CSAG1\", \"CSAG2\", \"CSAG3\", \"CSAG4\", \"TRIM28\", \"NDN\"\n",
    "]\n",
    "# List of target columns\n",
    "target_columns = ['gender','vital_status', 'ethnicity', 'treatment_type']\n",
    "for target_column in target_columns:\n",
    "    print(\"Analyzing target column:\", target_column)\n",
    "    # Separating type 1 and type 2 genes along with target column\n",
    "    subtype1_data = df_gender.loc[:, subtype1_genes + [target_column]].copy()\n",
    "    subtype2_data = df_gender.loc[:, subtype2_genes + [target_column]].copy()\n",
    "    # Drop rows with NaN values\n",
    "    subtype1_data.dropna(inplace=True)\n",
    "    subtype2_data.dropna(inplace=True)\n",
    "    # Standardizing the features for both types\n",
    "    subtype1_data.iloc[:, :-1] = StandardScaler().fit_transform(subtype1_data.iloc[:, :-1])\n",
    "    subtype2_data.iloc[:, :-1] = StandardScaler().fit_transform(subtype2_data.iloc[:, :-1])\n",
    "    # Reset index to avoid duplicate labels\n",
    "    subtype1_data.reset_index(drop=True, inplace=True)\n",
    "    subtype2_data.reset_index(drop=True, inplace=True)\n",
    "    # PCA with 2 components for subtype 1 genes\n",
    "    pca1 = PCA(n_components=2)\n",
    "    principalComponents1 = pca1.fit_transform(subtype1_data.iloc[:, :-1])\n",
    "    principalDf1 = pd.DataFrame(data=principalComponents1, columns=['principal component 1', 'principal component 2'])\n",
    "    # Adding target column to the PCA DataFrame for type 1\n",
    "    principalDf1[target_column] = subtype1_data[target_column]\n",
    "    # Explained variance ratio for PCA 1\n",
    "    print(\"Explained Variance Ratio for PCA 1 with\", target_column, \"as target:\", pca1.explained_variance_ratio_)\n",
    "    # PCA with 2 components for subtype 2 genes\n",
    "    pca2 = PCA(n_components=2)\n",
    "    principalComponents2 = pca2.fit_transform(subtype2_data.iloc[:, :-1])\n",
    "    principalDf2 = pd.DataFrame(data=principalComponents2, columns=['principal component 1', 'principal component 2'])\n",
    "    # Adding target column to the PCA DataFrame for subtype 2\n",
    "    principalDf2[target_column] = subtype2_data[target_column]\n",
    "    # Explained variance ratio for PCA 2\n",
    "    print(\"Explained Variance Ratio for PCA 2 with\", target_column, \"as target:\", pca2.explained_variance_ratio_, \"\\n\")\n",
    "    # Plotting the PCA results in 2D for subtype 1 genes\n",
    "    plt.figure(figsize=(10, 6))\n",
    "    plt.suptitle(\"PCA for type 1 and type 2 Genes using \" + target_column + \" as target\", fontsize=16)\n",
    "    plt.subplot(1, 2, 1)\n",
    "    targets = subtype1_data[target_column].unique()\n",
    "    colors = ['skyblue', 'lightcoral', 'lightgreen', 'lightyellow', 'lavender']  # Adjust colors if more unique categories\n",
    "    for target, color in zip(targets, colors):\n",
    "        indicesToKeep = principalDf1[target_column] == target\n",
    "        plt.scatter(principalDf1.loc[indicesToKeep, 'principal component 1'],\n",
    "                    principalDf1.loc[indicesToKeep, 'principal component 2'], c=color, s=50)\n",
    "    plt.xlabel('PC1')\n",
    "    plt.ylabel('PC2')\n",
    "    plt.title('PCA for type 1 Genes')\n",
    "    plt.legend(targets)\n",
    "    # Plotting the PCA results in 2D for subtype 2 genes\n",
    "    plt.subplot(1, 2, 2)\n",
    "    for target, color in zip(targets, colors):\n",
    "        indicesToKeep = principalDf2[target_column] == target\n",
    "        plt.scatter(principalDf2.loc[indicesToKeep, 'principal component 1'],\n",
    "                    principalDf2.loc[indicesToKeep, 'principal component 2'], c=color, s=50)\n",
    "    plt.xlabel('PC1')\n",
    "    plt.ylabel('PC2')\n",
    "    plt.title('PCA for type 2 Genes')\n",
    "    plt.legend(targets)\n",
    "    plt.tight_layout()\n",
    "    plt.show()"
   ]
  },
  {
   "cell_type": "code",
   "execution_count": null,
   "id": "289b4718-d058-47c8-8779-e1875814805d",
   "metadata": {},
   "outputs": [],
   "source": [
    "# Define a function to categorize expression levels\n",
    "def categorize_expression(expression):\n",
    "    if expression > 0:\n",
    "        return 'High Expression'\n",
    "    else:\n",
    "        return 'Low Expression'\n",
    "\n",
    "# Drop rows with missing or non-numeric values\n",
    "df = df.dropna(subset=['days_to_death', 'vital_status'])\n",
    "df = df[pd.to_numeric(df['days_to_death'], errors='coerce').notnull()]  # Ensure 'days_to_death' contains numeric values\n",
    "\n",
    "# Convert 'vital_status' to categorical values\n",
    "df['vital_status'] = df['vital_status'].astype('category')\n",
    "\n",
    "# Plotting\n",
    "num_cols = 4\n",
    "num_rows = (len(genes) + num_cols - 1) // num_cols  # Calculate the number of rows needed\n",
    "\n",
    "plt.figure(figsize=(15, 4 * num_rows))  # Adjust figure size based on the number of rows\n",
    "sns.set_style(\"whitegrid\")\n",
    "\n",
    "# Iterate over each gene column\n",
    "for i, gene in enumerate(genes):\n",
    "    plt.subplot(num_rows, num_cols, i + 1)\n",
    "\n",
    "    # Filter the data based on gene expression levels\n",
    "    high_expr_data = df[df[gene] > 0]\n",
    "    low_expr_data = df[df[gene] == 0]\n",
    "\n",
    "    # Create a KaplanMeierFitter object\n",
    "    kmf = KaplanMeierFitter()\n",
    "\n",
    "    # Fit the Kaplan-Meier curve for high expression data\n",
    "    kmf.fit(durations=high_expr_data['days_to_death'], event_observed=high_expr_data['vital_status'] == 'Dead', label='High Expression')\n",
    "    kmf.plot()\n",
    "\n",
    "    # Fit the Kaplan-Meier curve for low expression data if there are entries\n",
    "    if not low_expr_data.empty:\n",
    "        kmf.fit(durations=low_expr_data['days_to_death'], event_observed=low_expr_data['vital_status'] == 'Dead', label='Low Expression')\n",
    "        kmf.plot()\n",
    "\n",
    "    # Add labels and title\n",
    "    plt.xlabel('Time (days)')\n",
    "    plt.ylabel('Survival Probability')\n",
    "    plt.title(f'Kaplan-Meier Curve for {gene}')\n",
    "\n",
    "    # Add legend\n",
    "    plt.legend()\n",
    "\n",
    "plt.tight_layout()  # Adjust subplot layout to prevent overlap\n",
    "plt.show()"
   ]
  },
  {
   "cell_type": "markdown",
   "id": "acfaabcc-38c8-4132-82c4-59e503d6b58f",
   "metadata": {},
   "source": [
    "<h1><font color=\"#004D7F\" size=4>3.2. Clustering of Tumors.</font></h1>"
   ]
  },
  {
   "cell_type": "markdown",
   "id": "601f9103-4de8-4cbb-b6ff-2d924a881634",
   "metadata": {},
   "source": [
    "<h1><font color=\"#004D7F\" size=4>3.2.1. Unsupervised clustering (K-means)</font></h1>"
   ]
  },
  {
   "cell_type": "code",
   "execution_count": null,
   "id": "b74da607-062e-4a22-8735-37bdb4f6e589",
   "metadata": {},
   "outputs": [],
   "source": [
    "scaler = StandardScaler()\n",
    "scaled_data = scaler.fit_transform(df_numeric)\n",
    "# Define a range of k values to test\n",
    "k_values = range(2, 11)  # Test for 2 to 10 clusters\n",
    "\n",
    "# Initialize a dictionary to store silhouette scores for each k\n",
    "silhouette_scores = {}\n",
    "\n",
    "for k in k_values:\n",
    "    # Perform K-means clustering\n",
    "    kmeans = KMeans(n_clusters=k, random_state=42)\n",
    "    df['Cluster'] = kmeans.fit_predict(scaled_data)\n",
    "    \n",
    "    # Compute silhouette score\n",
    "    silhouette_avg = silhouette_score(scaled_data, df['Cluster'])\n",
    "    silhouette_scores[k] = silhouette_avg\n",
    "\n",
    "# Find the k with the highest silhouette score\n",
    "best_k = max(silhouette_scores, key=silhouette_scores.get)\n",
    "\n",
    "print(\"Best k:\", best_k)\n",
    "print(\"Silhouette Score:\", silhouette_scores[best_k])"
   ]
  },
  {
   "cell_type": "code",
   "execution_count": null,
   "id": "50b7b345-a13f-4c72-bbb5-b08e9d747d15",
   "metadata": {},
   "outputs": [],
   "source": [
    "# Perform K-means clustering\n",
    "kmeans = KMeans(n_clusters=3, random_state=42)\n",
    "df['Cluster'] = kmeans.fit_predict(scaled_data)\n",
    "\n",
    "# Reset the index of df\n",
    "df = df.reset_index(drop=True)\n",
    "\n",
    "# Reduce data dimensionality to 2 dimensions using PCA\n",
    "pca = PCA(n_components=2)\n",
    "pca_data = pca.fit_transform(scaled_data)\n",
    "\n",
    "# Add the cluster labels to the reduced data\n",
    "pca_df = pd.DataFrame(pca_data, columns=['PC1', 'PC2'])\n",
    "pca_df['Cluster'] = df['Cluster']\n",
    "\n",
    "# Visualize the clusters\n",
    "sns.scatterplot(x='PC1', y='PC2', hue='Cluster', data=pca_df)\n",
    "plt.title('Cluster Visualization using PCA')\n",
    "plt.xlabel('Principal Component 1')\n",
    "plt.ylabel('Principal Component 2')\n",
    "plt.show()"
   ]
  },
  {
   "cell_type": "code",
   "execution_count": null,
   "id": "53ea5128-6e30-4e3a-8d2f-bb32debecfa3",
   "metadata": {},
   "outputs": [],
   "source": [
    "# Reduce data dimensionality to 2 dimensions using t-SNE\n",
    "tsne = TSNE(n_components=2, random_state=42)\n",
    "tsne_data = tsne.fit_transform(scaled_data)\n",
    "\n",
    "# Add the cluster labels to the reduced data\n",
    "tsne_df = pd.DataFrame(tsne_data, columns=['Dimension 1', 'Dimension 2'])\n",
    "tsne_df['Cluster'] = df['Cluster']\n",
    "\n",
    "# Visualize the clusters in 2D using t-SNE\n",
    "sns.scatterplot(x='Dimension 1', y='Dimension 2', hue='Cluster', data=tsne_df, palette='viridis')\n",
    "plt.title('Cluster Visualization using t-SNE (2D)')\n",
    "plt.show()"
   ]
  },
  {
   "cell_type": "code",
   "execution_count": null,
   "id": "aaea4990-3b9d-454c-99ee-45a7a61814ef",
   "metadata": {},
   "outputs": [],
   "source": []
  },
  {
   "cell_type": "code",
   "execution_count": null,
   "id": "eff7b4b7-927d-4b19-bee8-7ee4e41b51c3",
   "metadata": {},
   "outputs": [],
   "source": []
  },
  {
   "cell_type": "markdown",
   "id": "3ea761d8-bad5-4191-a1ea-2ff159695785",
   "metadata": {},
   "source": [
    "<h1><font color=\"#004D7F\" size=4>Extras</font></h1>"
   ]
  },
  {
   "cell_type": "markdown",
   "id": "63084340-a01c-4b8a-a943-ef149954925a",
   "metadata": {},
   "source": [
    "<h1><font color=\"#004D7F\" size=4>PCA including all genes by gender</font></h1>"
   ]
  },
  {
   "cell_type": "code",
   "execution_count": null,
   "id": "1e4b5677-fec7-411e-ac96-8a4afa552308",
   "metadata": {},
   "outputs": [],
   "source": [
    "# Load dataset\n",
    "#column_order = [\"MAGEA1\", \"MAGEA2\", \"MAGEA2B\", \"MAGEA3\", \"MAGEA4\", \"MAGEA5\", \"MAGEA6\", \"MAGEA7P\", \"MAGEA8\", \"MAGEA9\",\"MAGEA9B\", \"MAGEA10\", \"MAGEA11\", \"MAGEA12\", \"MAGEB1\", \"MAGEB2\", \"MAGEB3\", \"MAGEB4\", \"MAGEB5\", \"MAGEB6\",\"MAGEB10\", \"MAGEB16\", \"MAGEB17\", \"MAGEB18\", \"MAGEC1\", \"MAGEC2\", \"MAGEC3\", \"MAGED1\", \"MAGED2\", \"MAGED4\",\"MAGED4B\", \"MAGEE1\", \"MAGEE2\", \"MAGEF1\", \"MAGEH1\", \"MAGEL2\", \"CSAG1\", \"CSAG2\", \"CSAG3\", \"CSAG4\", \"TRIM28\", 'gender']\n",
    "column_order = [\"MAGEA1\", \"MAGEA2\", \"MAGEA2B\", \"MAGEA3\", \"MAGEA4\", \"MAGEA5\", \"MAGEA6\", \"MAGEA7P\", \"MAGEA8\", \"MAGEA9\",\"MAGEA9B\", \"MAGEA10\", \"MAGEA11\", \"MAGEA12\", \"MAGEB1\", \"MAGEB2\", \"MAGEB3\", \"MAGEB4\", \"MAGEB5\", \"MAGEB6\",\"MAGEB10\", \"MAGEB16\", \"MAGEB17\", \"MAGEB18\", \"MAGEC1\", \"MAGEC2\", \"MAGEC3\", \"MAGED1\", \"MAGED2\", \"MAGED4\",\"MAGED4B\", \"MAGEE1\", \"MAGEE2\", \"MAGEF1\", \"MAGEH1\", \"MAGEL2\", 'gender']\n",
    "# Subsample the DataFrame\n",
    "df_gender = df[column_order].copy()\n",
    "features = column_order[:-1]  # Exclude the 'gender' column\n",
    "# Separating out the features\n",
    "x = df_gender.loc[:, features].values\n",
    "# Separating out the target\n",
    "y = df_gender.loc[:,['gender']].values\n",
    "# Standardizing the features\n",
    "x = StandardScaler().fit_transform(x)\n",
    "# PCA with 2 components\n",
    "pca = PCA(n_components=2)\n",
    "principalComponents = pca.fit_transform(x)\n",
    "principalDf = pd.DataFrame(data=principalComponents, columns=['principal component 1', 'principal component 2'])\n",
    "# Resetting the index of df_gender\n",
    "df_gender.reset_index(drop=True, inplace=True)\n",
    "# Concatenating with the gender column\n",
    "finalDf = pd.concat([principalDf, df_gender['gender']], axis=1)\n",
    "# Plotting the PCA results in 2D\n",
    "plt.figure(figsize=(4,3))\n",
    "targets = ['male', 'female']  # Assuming 'gender' column values are 'Male' and 'Female'\n",
    "colors = ['b', 'r']  # Blue for Male, Red for Female\n",
    "for target, color in zip(targets, colors):\n",
    "    indicesToKeep = finalDf['gender'] == target\n",
    "    plt.scatter(finalDf.loc[indicesToKeep, 'principal component 1'],\n",
    "                finalDf.loc[indicesToKeep, 'principal component 2'],\n",
    "                c=color, s=50)\n",
    "plt.xlabel('PC_1')\n",
    "plt.ylabel('PC_2')\n",
    "plt.legend(targets)\n",
    "plt.title('PCA of Tumors ')\n",
    "plt.show()"
   ]
  },
  {
   "cell_type": "code",
   "execution_count": null,
   "id": "6db3c805",
   "metadata": {
    "scrolled": true
   },
   "outputs": [],
   "source": [
    "parameter1=input(\"Enter value for parameter 1: \")\n",
    "parameter2 = input(\"Enter value for parameter 2: \")"
   ]
  },
  {
   "cell_type": "code",
   "execution_count": null,
   "id": "e4770738",
   "metadata": {},
   "outputs": [],
   "source": [
    "# Now you can use the captured parameters in your code\n",
    "result = parameter1 + parameter2  # Example calculation\n",
    "\n",
    "# Display the result\n",
    "print(\"Result:\", result)"
   ]
  }
 ],
 "metadata": {
  "kernelspec": {
   "display_name": "Python 3 (ipykernel)",
   "language": "python",
   "name": "python3"
  },
  "language_info": {
   "codemirror_mode": {
    "name": "ipython",
    "version": 3
   },
   "file_extension": ".py",
   "mimetype": "text/x-python",
   "name": "python",
   "nbconvert_exporter": "python",
   "pygments_lexer": "ipython3",
   "version": "3.11.5"
  }
 },
 "nbformat": 4,
 "nbformat_minor": 5
}
